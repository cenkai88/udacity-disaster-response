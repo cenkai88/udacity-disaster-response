{
 "cells": [
  {
   "cell_type": "markdown",
   "metadata": {},
   "source": [
    "# ML Pipeline Preparation\n",
    "Follow the instructions below to help you create your ML pipeline.\n",
    "### 1. Import libraries and load data from database.\n",
    "- Import Python libraries\n",
    "- Load dataset from database with [`read_sql_table`](https://pandas.pydata.org/pandas-docs/stable/generated/pandas.read_sql_table.html)\n",
    "- Define feature and target variables X and Y"
   ]
  },
  {
   "cell_type": "code",
   "execution_count": 1,
   "metadata": {},
   "outputs": [
    {
     "output_type": "stream",
     "name": "stderr",
     "text": [
      "[nltk_data] Downloading package punkt to /Users/kcen/nltk_data...\n[nltk_data]   Package punkt is already up-to-date!\n[nltk_data] Downloading package wordnet to /Users/kcen/nltk_data...\n[nltk_data]   Package wordnet is already up-to-date!\n[nltk_data] Downloading package averaged_perceptron_tagger to\n[nltk_data]     /Users/kcen/nltk_data...\n[nltk_data]   Package averaged_perceptron_tagger is already up-to-\n[nltk_data]       date!\n"
     ]
    }
   ],
   "source": [
    "# import libraries\n",
    "import nltk\n",
    "nltk.download('punkt')\n",
    "nltk.download('wordnet')\n",
    "nltk.download('averaged_perceptron_tagger')\n",
    "\n",
    "import numpy as np\n",
    "import pandas as pd\n",
    "\n",
    "import sys\n",
    "import os\n",
    "import re\n",
    "from sqlalchemy import create_engine\n",
    "import pickle\n",
    "\n",
    "from scipy.stats import gmean\n",
    "from sklearn.pipeline import Pipeline, FeatureUnion\n",
    "from sklearn.model_selection import train_test_split\n",
    "from sklearn.metrics import classification_report\n",
    "from sklearn.ensemble import AdaBoostClassifier\n",
    "from sklearn.model_selection import GridSearchCV\n",
    "from sklearn.feature_extraction.text import TfidfTransformer, CountVectorizer\n",
    "from sklearn.multioutput import MultiOutputClassifier\n",
    "from sklearn.base import BaseEstimator,TransformerMixin"
   ]
  },
  {
   "cell_type": "code",
   "execution_count": 2,
   "metadata": {},
   "outputs": [],
   "source": [
    "# load data from database\n",
    "database_filepath = \"../data/disaster_response_db.db\"\n",
    "engine = create_engine('sqlite:///' + database_filepath)\n",
    "table_name = os.path.basename(database_filepath).replace(\".db\",\"\") + \"_table\"\n",
    "df = pd.read_sql_table(table_name,engine)\n",
    "\n",
    "df = df.loc[:,~((df==1).all()|(df==0).all())]\n",
    "df['related']=df['related'].map(lambda x: 1 if x == 2 else 0)\n",
    "\n",
    "X = df['message']\n",
    "y = df.iloc[:,4:]"
   ]
  },
  {
   "cell_type": "markdown",
   "metadata": {},
   "source": [
    "### 2. Write a tokenization function to process your text data"
   ]
  },
  {
   "cell_type": "code",
   "execution_count": 3,
   "metadata": {},
   "outputs": [],
   "source": [
    "def tokenize(text, url_placeholder_str=\"urlplaceholder\"):\n",
    "    \"\"\"\n",
    "    INPUT:\n",
    "        text: text that needs to be tokenized\n",
    "    OUTPUT:\n",
    "        clean_tokens: list of tokens extracted\n",
    "    \"\"\"\n",
    "    \n",
    "    url_regex = 'http[s]?://(?:[a-zA-Z]|[0-9]|[$-_@.&+]|[!*\\(\\),]|(?:%[0-9a-fA-F][0-9a-fA-F]))+'\n",
    "    detected_urls = re.findall(url_regex, text)\n",
    "    \n",
    "    for detected_url in detected_urls:\n",
    "        text = text.replace(detected_url, url_placeholder_str)\n",
    "\n",
    "    # Extract the word tokens from the provided text\n",
    "    tokens = nltk.word_tokenize(text)\n",
    "    \n",
    "    #Lemmanitizer to remove inflectional and derivationally related forms of a word\n",
    "    lemmatizer = nltk.WordNetLemmatizer()\n",
    "\n",
    "    clean_tokens = [lemmatizer.lemmatize(w).lower().strip() for w in tokens]\n",
    "    return clean_tokens"
   ]
  },
  {
   "cell_type": "markdown",
   "metadata": {},
   "source": [
    "### 3. Build a machine learning pipeline\n",
    "This machine pipeline should take in the `message` column as input and output classification results on the other 36 categories in the dataset. You may find the [MultiOutputClassifier](http://scikit-learn.org/stable/modules/generated/sklearn.multioutput.MultiOutputClassifier.html) helpful for predicting multiple target variables."
   ]
  },
  {
   "cell_type": "code",
   "execution_count": 4,
   "metadata": {},
   "outputs": [],
   "source": [
    "pipeline = Pipeline([\n",
    "        ('features', FeatureUnion([\n",
    "\n",
    "            ('text_pipeline', Pipeline([\n",
    "                ('count_vectorizer', CountVectorizer(tokenizer=tokenize)),\n",
    "                ('tfidf_transformer', TfidfTransformer())\n",
    "            ]))\n",
    "            \n",
    "        ])),\n",
    "\n",
    "        ('classifier', MultiOutputClassifier(AdaBoostClassifier()))\n",
    "    ])"
   ]
  },
  {
   "cell_type": "markdown",
   "metadata": {},
   "source": [
    "### 4. Train pipeline\n",
    "- Split data into train and test sets\n",
    "- Train pipeline"
   ]
  },
  {
   "cell_type": "code",
   "execution_count": 6,
   "metadata": {},
   "outputs": [],
   "source": [
    "X_train, X_test, y_train, y_test = train_test_split(X, y)\n",
    "pipeline_fitted = pipeline.fit(X_train, y_train)"
   ]
  },
  {
   "cell_type": "markdown",
   "metadata": {},
   "source": [
    "### 5. Test your model\n",
    "Report the f1 score, precision and recall for each output category of the dataset. You can do this by iterating through the columns and calling sklearn's `classification_report` on each."
   ]
  },
  {
   "cell_type": "code",
   "execution_count": 7,
   "metadata": {},
   "outputs": [
    {
     "output_type": "stream",
     "name": "stdout",
     "text": [
      "                        precision    recall  f1-score   support\n",
      "\n",
      "               related       0.28      0.11      0.15        47\n",
      "               request       0.79      0.55      0.64      1139\n",
      "                 offer       0.00      0.00      0.00        32\n",
      "           aid_related       0.76      0.59      0.66      2693\n",
      "          medical_help       0.62      0.28      0.39       514\n",
      "      medical_products       0.67      0.27      0.39       329\n",
      "     search_and_rescue       0.51      0.17      0.25       177\n",
      "              security       0.36      0.08      0.13       105\n",
      "              military       0.60      0.37      0.46       209\n",
      "                 water       0.71      0.63      0.67       439\n",
      "                  food       0.81      0.70      0.75       724\n",
      "               shelter       0.77      0.51      0.61       588\n",
      "              clothing       0.72      0.44      0.55       106\n",
      "                 money       0.62      0.35      0.45       150\n",
      "        missing_people       0.67      0.26      0.38        68\n",
      "              refugees       0.55      0.22      0.31       220\n",
      "                 death       0.71      0.51      0.59       275\n",
      "             other_aid       0.48      0.14      0.21       836\n",
      "infrastructure_related       0.34      0.07      0.12       417\n",
      "             transport       0.67      0.19      0.30       271\n",
      "             buildings       0.62      0.37      0.47       316\n",
      "           electricity       0.52      0.28      0.36       126\n",
      "                 tools       0.00      0.00      0.00        40\n",
      "             hospitals       0.52      0.16      0.24        70\n",
      "                 shops       0.00      0.00      0.00        37\n",
      "           aid_centers       0.22      0.07      0.11        80\n",
      "  other_infrastructure       0.29      0.07      0.11       280\n",
      "       weather_related       0.84      0.68      0.75      1822\n",
      "                floods       0.83      0.55      0.67       502\n",
      "                 storm       0.73      0.51      0.61       608\n",
      "                  fire       0.36      0.20      0.26        69\n",
      "            earthquake       0.87      0.80      0.83       642\n",
      "                  cold       0.69      0.38      0.49       133\n",
      "         other_weather       0.49      0.13      0.20       344\n",
      "         direct_report       0.75      0.47      0.58      1301\n",
      "\n",
      "             micro avg       0.74      0.47      0.58     15709\n",
      "             macro avg       0.55      0.32      0.39     15709\n",
      "          weighted avg       0.70      0.47      0.55     15709\n",
      "           samples avg       0.39      0.27      0.30     15709\n",
      "\n",
      "/opt/anaconda3/lib/python3.8/site-packages/sklearn/metrics/_classification.py:1245: UndefinedMetricWarning: Precision and F-score are ill-defined and being set to 0.0 in samples with no predicted labels. Use `zero_division` parameter to control this behavior.\n",
      "  _warn_prf(average, modifier, msg_start, len(result))\n",
      "/opt/anaconda3/lib/python3.8/site-packages/sklearn/metrics/_classification.py:1245: UndefinedMetricWarning: Recall and F-score are ill-defined and being set to 0.0 in samples with no true labels. Use `zero_division` parameter to control this behavior.\n",
      "  _warn_prf(average, modifier, msg_start, len(result))\n"
     ]
    }
   ],
   "source": [
    "y_prediction_train = pipeline_fitted.predict(X_train)\n",
    "y_prediction_test = pipeline_fitted.predict(X_test)\n",
    "\n",
    "print(classification_report(y_test.values, y_prediction_test, target_names=y.columns.values))"
   ]
  },
  {
   "cell_type": "code",
   "execution_count": 8,
   "metadata": {},
   "outputs": [
    {
     "output_type": "stream",
     "name": "stdout",
     "text": [
      "                        precision    recall  f1-score   support\n",
      "\n",
      "               related       0.54      0.18      0.28       141\n",
      "               request       0.80      0.55      0.65      3335\n",
      "                 offer       0.33      0.07      0.12        86\n",
      "           aid_related       0.77      0.61      0.68      8167\n",
      "          medical_help       0.68      0.29      0.40      1570\n",
      "      medical_products       0.70      0.34      0.46       984\n",
      "     search_and_rescue       0.65      0.23      0.34       547\n",
      "              security       0.41      0.08      0.14       366\n",
      "              military       0.66      0.33      0.44       651\n",
      "                 water       0.77      0.67      0.71      1233\n",
      "                  food       0.80      0.69      0.74      2199\n",
      "               shelter       0.80      0.55      0.65      1726\n",
      "              clothing       0.74      0.43      0.54       299\n",
      "                 money       0.64      0.35      0.45       454\n",
      "        missing_people       0.70      0.22      0.33       230\n",
      "              refugees       0.64      0.27      0.38       655\n",
      "                 death       0.77      0.50      0.61       919\n",
      "             other_aid       0.58      0.16      0.25      2610\n",
      "infrastructure_related       0.49      0.12      0.19      1288\n",
      "             transport       0.79      0.25      0.38       930\n",
      "             buildings       0.70      0.45      0.55      1017\n",
      "           electricity       0.66      0.36      0.47       406\n",
      "                 tools       0.52      0.11      0.18       119\n",
      "             hospitals       0.54      0.13      0.21       213\n",
      "                 shops       0.56      0.06      0.11        83\n",
      "           aid_centers       0.49      0.15      0.23       229\n",
      "  other_infrastructure       0.52      0.12      0.20       871\n",
      "       weather_related       0.85      0.67      0.75      5475\n",
      "                floods       0.88      0.57      0.69      1653\n",
      "                 storm       0.78      0.52      0.63      1835\n",
      "                  fire       0.70      0.34      0.46       213\n",
      "            earthquake       0.89      0.80      0.84      1813\n",
      "                  cold       0.75      0.37      0.50       397\n",
      "         other_weather       0.57      0.14      0.22      1032\n",
      "         direct_report       0.75      0.48      0.58      3774\n",
      "\n",
      "             micro avg       0.77      0.48      0.60     47520\n",
      "             macro avg       0.67      0.35      0.44     47520\n",
      "          weighted avg       0.74      0.48      0.57     47520\n",
      "           samples avg       0.41      0.28      0.32     47520\n",
      "\n",
      "/opt/anaconda3/lib/python3.8/site-packages/sklearn/metrics/_classification.py:1245: UndefinedMetricWarning: Precision and F-score are ill-defined and being set to 0.0 in samples with no predicted labels. Use `zero_division` parameter to control this behavior.\n",
      "  _warn_prf(average, modifier, msg_start, len(result))\n",
      "/opt/anaconda3/lib/python3.8/site-packages/sklearn/metrics/_classification.py:1245: UndefinedMetricWarning: Recall and F-score are ill-defined and being set to 0.0 in samples with no true labels. Use `zero_division` parameter to control this behavior.\n",
      "  _warn_prf(average, modifier, msg_start, len(result))\n"
     ]
    }
   ],
   "source": [
    "print(classification_report(y_train.values, y_prediction_train, target_names=y.columns.values))"
   ]
  },
  {
   "cell_type": "markdown",
   "metadata": {},
   "source": [
    "### 6. Improve your model\n",
    "Use grid search to find better parameters. "
   ]
  },
  {
   "cell_type": "code",
   "execution_count": 10,
   "metadata": {},
   "outputs": [
    {
     "output_type": "execute_result",
     "data": {
      "text/plain": [
       "GridSearchCV(estimator=Pipeline(steps=[('features',\n",
       "                                        FeatureUnion(transformer_list=[('text_pipeline',\n",
       "                                                                        Pipeline(steps=[('count_vectorizer',\n",
       "                                                                                         CountVectorizer(tokenizer=<function tokenize at 0x7f9b23bbbc10>)),\n",
       "                                                                                        ('tfidf_transformer',\n",
       "                                                                                         TfidfTransformer())]))])),\n",
       "                                       ('classifier',\n",
       "                                        MultiOutputClassifier(estimator=AdaBoostClassifier()))]),\n",
       "             n_jobs=-1,\n",
       "             param_grid={'classifier__estimator__learning_rate': [0.01, 0.02,\n",
       "                                                                  0.05],\n",
       "                         'classifier__estimator__n_estimators': [10, 20, 40]},\n",
       "             scoring='f1_micro')"
      ]
     },
     "metadata": {},
     "execution_count": 10
    }
   ],
   "source": [
    "parameters = {'classifier__estimator__learning_rate': [0.01, 0.02, 0.05],\n",
    "              'classifier__estimator__n_estimators': [10, 20, 40]}\n",
    "\n",
    "cv = GridSearchCV(pipeline, param_grid=parameters, scoring='f1_micro', n_jobs=-1)\n",
    "cv.fit(X_train, y_train)"
   ]
  },
  {
   "cell_type": "code",
   "execution_count": 11,
   "metadata": {},
   "outputs": [],
   "source": [
    "# Get the prediction values from the grid search cross validator\n",
    "y_prediction_test = cv.predict(X_test)\n",
    "y_prediction_train = cv.predict(X_train)"
   ]
  },
  {
   "cell_type": "markdown",
   "metadata": {},
   "source": [
    "### 7. Test your model\n",
    "Show the accuracy, precision, and recall of the tuned model.  \n",
    "\n",
    "Since this project focuses on code quality, process, and  pipelines, there is no minimum performance metric needed to pass. However, make sure to fine tune your models for accuracy, precision and recall to make your project stand out - especially for your portfolio!"
   ]
  },
  {
   "cell_type": "code",
   "execution_count": 12,
   "metadata": {},
   "outputs": [
    {
     "output_type": "stream",
     "name": "stdout",
     "text": [
      "                        precision    recall  f1-score   support\n",
      "\n",
      "               related       0.00      0.00      0.00        47\n",
      "               request       0.60      0.40      0.48      1139\n",
      "                 offer       0.00      0.00      0.00        32\n",
      "           aid_related       0.81      0.18      0.30      2693\n",
      "          medical_help       0.58      0.10      0.17       514\n",
      "      medical_products       0.69      0.09      0.16       329\n",
      "     search_and_rescue       0.57      0.16      0.25       177\n",
      "              security       0.00      0.00      0.00       105\n",
      "              military       0.50      0.14      0.22       209\n",
      "                 water       0.59      0.84      0.69       439\n",
      "                  food       0.77      0.66      0.71       724\n",
      "               shelter       0.90      0.29      0.44       588\n",
      "              clothing       0.50      0.01      0.02       106\n",
      "                 money       0.00      0.00      0.00       150\n",
      "        missing_people       0.69      0.29      0.41        68\n",
      "              refugees       0.80      0.02      0.04       220\n",
      "                 death       0.74      0.16      0.26       275\n",
      "             other_aid       0.00      0.00      0.00       836\n",
      "infrastructure_related       0.00      0.00      0.00       417\n",
      "             transport       0.50      0.22      0.30       271\n",
      "             buildings       0.00      0.00      0.00       316\n",
      "           electricity       0.00      0.00      0.00       126\n",
      "                 tools       0.00      0.00      0.00        40\n",
      "             hospitals       0.00      0.00      0.00        70\n",
      "                 shops       0.00      0.00      0.00        37\n",
      "           aid_centers       0.00      0.00      0.00        80\n",
      "  other_infrastructure       0.00      0.00      0.00       280\n",
      "       weather_related       0.92      0.24      0.38      1822\n",
      "                floods       0.90      0.34      0.50       502\n",
      "                 storm       0.75      0.29      0.42       608\n",
      "                  fire       0.48      0.41      0.44        69\n",
      "            earthquake       0.89      0.66      0.76       642\n",
      "                  cold       0.57      0.03      0.06       133\n",
      "         other_weather       0.59      0.12      0.21       344\n",
      "         direct_report       0.65      0.41      0.50      1301\n",
      "\n",
      "             micro avg       0.72      0.26      0.38     15709\n",
      "             macro avg       0.43      0.17      0.22     15709\n",
      "          weighted avg       0.63      0.26      0.34     15709\n",
      "           samples avg       0.28      0.15      0.18     15709\n",
      "\n",
      "/opt/anaconda3/lib/python3.8/site-packages/sklearn/metrics/_classification.py:1245: UndefinedMetricWarning: Precision and F-score are ill-defined and being set to 0.0 in labels with no predicted samples. Use `zero_division` parameter to control this behavior.\n",
      "  _warn_prf(average, modifier, msg_start, len(result))\n",
      "/opt/anaconda3/lib/python3.8/site-packages/sklearn/metrics/_classification.py:1245: UndefinedMetricWarning: Precision and F-score are ill-defined and being set to 0.0 in samples with no predicted labels. Use `zero_division` parameter to control this behavior.\n",
      "  _warn_prf(average, modifier, msg_start, len(result))\n",
      "/opt/anaconda3/lib/python3.8/site-packages/sklearn/metrics/_classification.py:1245: UndefinedMetricWarning: Recall and F-score are ill-defined and being set to 0.0 in samples with no true labels. Use `zero_division` parameter to control this behavior.\n",
      "  _warn_prf(average, modifier, msg_start, len(result))\n"
     ]
    }
   ],
   "source": [
    "print(classification_report(y_test.values, y_prediction_test, target_names=y.columns.values))"
   ]
  },
  {
   "cell_type": "code",
   "execution_count": 13,
   "metadata": {},
   "outputs": [
    {
     "output_type": "stream",
     "name": "stdout",
     "text": [
      "                        precision    recall  f1-score   support\n",
      "\n",
      "               related       0.00      0.00      0.00       141\n",
      "               request       0.62      0.37      0.46      3335\n",
      "                 offer       1.00      0.02      0.05        86\n",
      "           aid_related       0.80      0.19      0.31      8167\n",
      "          medical_help       0.65      0.12      0.20      1570\n",
      "      medical_products       0.74      0.14      0.24       984\n",
      "     search_and_rescue       0.65      0.20      0.31       547\n",
      "              security       0.00      0.00      0.00       366\n",
      "              military       0.53      0.14      0.22       651\n",
      "                 water       0.57      0.85      0.68      1233\n",
      "                  food       0.77      0.68      0.73      2199\n",
      "               shelter       0.83      0.30      0.44      1726\n",
      "              clothing       1.00      0.00      0.01       299\n",
      "                 money       1.00      0.01      0.02       454\n",
      "        missing_people       0.67      0.25      0.36       230\n",
      "              refugees       0.80      0.01      0.02       655\n",
      "                 death       0.75      0.17      0.27       919\n",
      "             other_aid       0.00      0.00      0.00      2610\n",
      "infrastructure_related       0.00      0.00      0.00      1288\n",
      "             transport       0.60      0.26      0.36       930\n",
      "             buildings       0.00      0.00      0.00      1017\n",
      "           electricity       0.00      0.00      0.00       406\n",
      "                 tools       0.00      0.00      0.00       119\n",
      "             hospitals       0.00      0.00      0.00       213\n",
      "                 shops       1.00      0.01      0.02        83\n",
      "           aid_centers       0.00      0.00      0.00       229\n",
      "  other_infrastructure       0.00      0.00      0.00       871\n",
      "       weather_related       0.91      0.22      0.35      5475\n",
      "                floods       0.92      0.33      0.49      1653\n",
      "                 storm       0.73      0.25      0.37      1835\n",
      "                  fire       0.52      0.40      0.46       213\n",
      "            earthquake       0.90      0.64      0.75      1813\n",
      "                  cold       0.60      0.04      0.07       397\n",
      "         other_weather       0.57      0.12      0.20      1032\n",
      "         direct_report       0.62      0.39      0.47      3774\n",
      "\n",
      "             micro avg       0.72      0.25      0.37     47520\n",
      "             macro avg       0.54      0.17      0.22     47520\n",
      "          weighted avg       0.64      0.25      0.33     47520\n",
      "           samples avg       0.28      0.15      0.18     47520\n",
      "\n",
      "/opt/anaconda3/lib/python3.8/site-packages/sklearn/metrics/_classification.py:1245: UndefinedMetricWarning: Precision and F-score are ill-defined and being set to 0.0 in labels with no predicted samples. Use `zero_division` parameter to control this behavior.\n",
      "  _warn_prf(average, modifier, msg_start, len(result))\n",
      "/opt/anaconda3/lib/python3.8/site-packages/sklearn/metrics/_classification.py:1245: UndefinedMetricWarning: Precision and F-score are ill-defined and being set to 0.0 in samples with no predicted labels. Use `zero_division` parameter to control this behavior.\n",
      "  _warn_prf(average, modifier, msg_start, len(result))\n",
      "/opt/anaconda3/lib/python3.8/site-packages/sklearn/metrics/_classification.py:1245: UndefinedMetricWarning: Recall and F-score are ill-defined and being set to 0.0 in samples with no true labels. Use `zero_division` parameter to control this behavior.\n",
      "  _warn_prf(average, modifier, msg_start, len(result))\n"
     ]
    }
   ],
   "source": [
    "print(classification_report(y_train.values, y_prediction_train, target_names=y.columns.values))"
   ]
  },
  {
   "cell_type": "markdown",
   "metadata": {},
   "source": [
    "### 8. Try improving your model further. Here are a few ideas:\n",
    "* try other machine learning algorithms\n",
    "* add other features besides the TF-IDF"
   ]
  },
  {
   "cell_type": "code",
   "execution_count": 14,
   "metadata": {},
   "outputs": [],
   "source": [
    "# Build a custom transformer which extracts the first verb of a sentence\n",
    "class StartingVerbExtractor(BaseEstimator, TransformerMixin):\n",
    "    \"\"\"\n",
    "    This class extract the first verb of a sentence and creates a new feature for the ML classifier\n",
    "    \"\"\"\n",
    "\n",
    "    def starting_verb(self, text):\n",
    "        sentence_list = nltk.sent_tokenize(text)\n",
    "        for sentence in sentence_list:\n",
    "            pos_tags = nltk.pos_tag(tokenize(sentence))\n",
    "            first_word, first_tag = pos_tags[0]\n",
    "            if first_tag in ['VB', 'VBP'] or first_word == 'RT':\n",
    "                return True\n",
    "        return False\n",
    "\n",
    "    def fit(self, X, y=None):\n",
    "        return self\n",
    "\n",
    "    def transform(self, X):\n",
    "        X_tagged = pd.Series(X).apply(self.starting_verb)\n",
    "        return pd.DataFrame(X_tagged)\n",
    "\n",
    "pipelineWithVerbTrans = Pipeline([\n",
    "        ('features', FeatureUnion([\n",
    "\n",
    "            ('text_pipeline', Pipeline([\n",
    "                ('count_vectorizer', CountVectorizer(tokenizer=tokenize)),\n",
    "                ('tfidf_transformer', TfidfTransformer())\n",
    "            ])),\n",
    "\n",
    "            ('starting_verb_transformer', StartingVerbExtractor())\n",
    "        ])),\n",
    "\n",
    "        ('classifier', MultiOutputClassifier(AdaBoostClassifier()))\n",
    "    ])\n"
   ]
  },
  {
   "cell_type": "code",
   "execution_count": 15,
   "metadata": {},
   "outputs": [
    {
     "output_type": "stream",
     "name": "stdout",
     "text": [
      "                        precision    recall  f1-score   support\n",
      "\n",
      "               related       0.42      0.10      0.16        50\n",
      "               request       0.77      0.53      0.63      1104\n",
      "                 offer       0.00      0.00      0.00        28\n",
      "           aid_related       0.75      0.59      0.66      2695\n",
      "          medical_help       0.65      0.29      0.40       510\n",
      "      medical_products       0.58      0.29      0.38       327\n",
      "     search_and_rescue       0.57      0.19      0.28       167\n",
      "              security       0.13      0.03      0.04       119\n",
      "              military       0.49      0.32      0.39       192\n",
      "                 water       0.76      0.62      0.69       445\n",
      "                  food       0.79      0.69      0.74       715\n",
      "               shelter       0.77      0.53      0.63       564\n",
      "              clothing       0.80      0.39      0.53       109\n",
      "                 money       0.65      0.35      0.45       159\n",
      "        missing_people       0.50      0.14      0.22        76\n",
      "              refugees       0.49      0.26      0.34       206\n",
      "                 death       0.65      0.51      0.57       262\n",
      "             other_aid       0.45      0.11      0.18       857\n",
      "infrastructure_related       0.39      0.08      0.13       443\n",
      "             transport       0.62      0.27      0.38       283\n",
      "             buildings       0.67      0.42      0.51       311\n",
      "           electricity       0.63      0.28      0.39       140\n",
      "                 tools       0.00      0.00      0.00        39\n",
      "             hospitals       0.53      0.11      0.18        83\n",
      "                 shops       0.00      0.00      0.00        33\n",
      "           aid_centers       0.25      0.06      0.10        94\n",
      "  other_infrastructure       0.36      0.08      0.13       272\n",
      "       weather_related       0.85      0.67      0.75      1801\n",
      "                floods       0.88      0.55      0.68       534\n",
      "                 storm       0.76      0.53      0.63       594\n",
      "                  fire       0.77      0.21      0.33        82\n",
      "            earthquake       0.87      0.75      0.80       606\n",
      "                  cold       0.63      0.30      0.41       140\n",
      "         other_weather       0.42      0.15      0.22       344\n",
      "         direct_report       0.73      0.47      0.57      1239\n",
      "\n",
      "             micro avg       0.74      0.46      0.57     15623\n",
      "             macro avg       0.56      0.31      0.39     15623\n",
      "          weighted avg       0.69      0.46      0.55     15623\n",
      "           samples avg       0.39      0.27      0.30     15623\n",
      "\n",
      "/opt/anaconda3/lib/python3.8/site-packages/sklearn/metrics/_classification.py:1245: UndefinedMetricWarning: Precision and F-score are ill-defined and being set to 0.0 in samples with no predicted labels. Use `zero_division` parameter to control this behavior.\n",
      "  _warn_prf(average, modifier, msg_start, len(result))\n",
      "/opt/anaconda3/lib/python3.8/site-packages/sklearn/metrics/_classification.py:1245: UndefinedMetricWarning: Recall and F-score are ill-defined and being set to 0.0 in samples with no true labels. Use `zero_division` parameter to control this behavior.\n",
      "  _warn_prf(average, modifier, msg_start, len(result))\n"
     ]
    }
   ],
   "source": [
    "\n",
    "#Use pipelineWithVerbTrans which includes StartingVerbEstimator\n",
    "X_train, X_test, y_train, y_test = train_test_split(X, y)\n",
    "pipeline_fitted = pipelineWithVerbTrans.fit(X_train, y_train)\n",
    "\n",
    "y_prediction_train = pipeline_fitted.predict(X_train)\n",
    "y_prediction_test = pipeline_fitted.predict(X_test)\n",
    "\n",
    "# Print classification report on test data\n",
    "print(classification_report(y_test.values, y_prediction_test, target_names=y.columns.values))"
   ]
  },
  {
   "cell_type": "code",
   "execution_count": 16,
   "metadata": {},
   "outputs": [
    {
     "output_type": "stream",
     "name": "stdout",
     "text": [
      "                        precision    recall  f1-score   support\n",
      "\n",
      "               related       0.68      0.19      0.30       138\n",
      "               request       0.80      0.56      0.66      3370\n",
      "                 offer       0.56      0.11      0.19        90\n",
      "           aid_related       0.78      0.61      0.68      8165\n",
      "          medical_help       0.64      0.28      0.39      1574\n",
      "      medical_products       0.72      0.35      0.47       986\n",
      "     search_and_rescue       0.68      0.23      0.34       557\n",
      "              security       0.40      0.07      0.11       352\n",
      "              military       0.69      0.35      0.47       668\n",
      "                 water       0.78      0.65      0.71      1227\n",
      "                  food       0.82      0.69      0.75      2208\n",
      "               shelter       0.79      0.55      0.65      1750\n",
      "              clothing       0.78      0.47      0.59       296\n",
      "                 money       0.63      0.30      0.40       445\n",
      "        missing_people       0.79      0.20      0.32       222\n",
      "              refugees       0.67      0.29      0.41       669\n",
      "                 death       0.78      0.53      0.63       932\n",
      "             other_aid       0.58      0.16      0.25      2589\n",
      "infrastructure_related       0.53      0.11      0.19      1262\n",
      "             transport       0.70      0.28      0.39       918\n",
      "             buildings       0.69      0.42      0.53      1022\n",
      "           electricity       0.66      0.31      0.42       392\n",
      "                 tools       0.56      0.08      0.14       120\n",
      "             hospitals       0.49      0.10      0.17       200\n",
      "                 shops       0.62      0.11      0.19        87\n",
      "           aid_centers       0.55      0.17      0.26       215\n",
      "  other_infrastructure       0.45      0.09      0.16       879\n",
      "       weather_related       0.86      0.67      0.76      5496\n",
      "                floods       0.89      0.55      0.68      1621\n",
      "                 storm       0.79      0.56      0.65      1849\n",
      "                  fire       0.71      0.30      0.42       200\n",
      "            earthquake       0.89      0.79      0.83      1849\n",
      "                  cold       0.72      0.33      0.45       390\n",
      "         other_weather       0.56      0.20      0.30      1032\n",
      "         direct_report       0.76      0.49      0.60      3836\n",
      "\n",
      "             micro avg       0.78      0.49      0.60     47606\n",
      "             macro avg       0.69      0.35      0.44     47606\n",
      "          weighted avg       0.75      0.49      0.58     47606\n",
      "           samples avg       0.41      0.29      0.32     47606\n",
      "\n",
      "/opt/anaconda3/lib/python3.8/site-packages/sklearn/metrics/_classification.py:1245: UndefinedMetricWarning: Precision and F-score are ill-defined and being set to 0.0 in samples with no predicted labels. Use `zero_division` parameter to control this behavior.\n",
      "  _warn_prf(average, modifier, msg_start, len(result))\n",
      "/opt/anaconda3/lib/python3.8/site-packages/sklearn/metrics/_classification.py:1245: UndefinedMetricWarning: Recall and F-score are ill-defined and being set to 0.0 in samples with no true labels. Use `zero_division` parameter to control this behavior.\n",
      "  _warn_prf(average, modifier, msg_start, len(result))\n"
     ]
    }
   ],
   "source": [
    "print(classification_report(y_train.values, y_prediction_train, target_names=y.columns.values))"
   ]
  },
  {
   "cell_type": "markdown",
   "metadata": {},
   "source": [
    "### 9. Export your model as a pickle file"
   ]
  },
  {
   "cell_type": "code",
   "execution_count": 17,
   "metadata": {},
   "outputs": [],
   "source": [
    "m = pickle.dumps('classifier.pkl')"
   ]
  },
  {
   "cell_type": "markdown",
   "metadata": {},
   "source": [
    "### 10. Use this notebook to complete `train.py`\n",
    "Use the template file attached in the Resources folder to write a script that runs the steps above to create a database and export a model based on a new dataset specified by the user."
   ]
  },
  {
   "cell_type": "code",
   "execution_count": null,
   "metadata": {},
   "outputs": [],
   "source": []
  }
 ],
 "metadata": {
  "kernelspec": {
   "name": "python3",
   "display_name": "Python 3.8.8 64-bit ('base': conda)"
  },
  "language_info": {
   "codemirror_mode": {
    "name": "ipython",
    "version": 3
   },
   "file_extension": ".py",
   "mimetype": "text/x-python",
   "name": "python",
   "nbconvert_exporter": "python",
   "pygments_lexer": "ipython3",
   "version": "3.8.8"
  },
  "interpreter": {
   "hash": "dca0ade3e726a953b501b15e8e990130d2b7799f14cfd9f4271676035ebe5511"
  }
 },
 "nbformat": 4,
 "nbformat_minor": 4
}